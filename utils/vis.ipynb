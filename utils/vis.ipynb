{
 "cells": [
  {
   "cell_type": "code",
   "execution_count": 2,
   "metadata": {},
   "outputs": [
    {
     "name": "stdout",
     "output_type": "stream",
     "text": [
      "/mnt/petrelfs/zhangsha\n"
     ]
    },
    {
     "ename": "ModuleNotFoundError",
     "evalue": "No module named 'pretrain'",
     "output_type": "error",
     "traceback": [
      "\u001b[0;31m---------------------------------------------------------------------------\u001b[0m",
      "\u001b[0;31mModuleNotFoundError\u001b[0m                       Traceback (most recent call last)",
      "\u001b[1;32m/mnt/lustre/zhangsha/hvdistill/utils/vis.ipynb Cell 1\u001b[0m in \u001b[0;36m1\n\u001b[1;32m     <a href='vscode-notebook-cell://ssh-remote%2Bzhangsha_s2/mnt/lustre/zhangsha/hvdistill/utils/vis.ipynb#W1sdnNjb2RlLXJlbW90ZQ%3D%3D?line=9'>10</a>\u001b[0m \u001b[39mfrom\u001b[39;00m \u001b[39mtorch\u001b[39;00m\u001b[39m.\u001b[39;00m\u001b[39mutils\u001b[39;00m\u001b[39m.\u001b[39;00m\u001b[39mdata\u001b[39;00m \u001b[39mimport\u001b[39;00m DataLoader\n\u001b[1;32m     <a href='vscode-notebook-cell://ssh-remote%2Bzhangsha_s2/mnt/lustre/zhangsha/hvdistill/utils/vis.ipynb#W1sdnNjb2RlLXJlbW90ZQ%3D%3D?line=10'>11</a>\u001b[0m get_ipython()\u001b[39m.\u001b[39msystem(\u001b[39m'\u001b[39m\u001b[39mpwd\u001b[39m\u001b[39m'\u001b[39m)\n\u001b[0;32m---> <a href='vscode-notebook-cell://ssh-remote%2Bzhangsha_s2/mnt/lustre/zhangsha/hvdistill/utils/vis.ipynb#W1sdnNjb2RlLXJlbW90ZQ%3D%3D?line=11'>12</a>\u001b[0m \u001b[39mfrom\u001b[39;00m \u001b[39mpretrain\u001b[39;00m\u001b[39m.\u001b[39;00m\u001b[39mmodel_builder\u001b[39;00m \u001b[39mimport\u001b[39;00m make_model\n\u001b[1;32m     <a href='vscode-notebook-cell://ssh-remote%2Bzhangsha_s2/mnt/lustre/zhangsha/hvdistill/utils/vis.ipynb#W1sdnNjb2RlLXJlbW90ZQ%3D%3D?line=12'>13</a>\u001b[0m \u001b[39mfrom\u001b[39;00m \u001b[39mpretrain\u001b[39;00m\u001b[39m.\u001b[39;00m\u001b[39mdataloader_nuscenes\u001b[39;00m \u001b[39mimport\u001b[39;00m NuScenesMatchDataset, minkunet_collate_pair_fn\n\u001b[1;32m     <a href='vscode-notebook-cell://ssh-remote%2Bzhangsha_s2/mnt/lustre/zhangsha/hvdistill/utils/vis.ipynb#W1sdnNjb2RlLXJlbW90ZQ%3D%3D?line=13'>14</a>\u001b[0m \u001b[39mfrom\u001b[39;00m \u001b[39mutils\u001b[39;00m\u001b[39m.\u001b[39;00m\u001b[39mtransforms\u001b[39;00m \u001b[39mimport\u001b[39;00m make_transforms_asymmetrical_val\n",
      "\u001b[0;31mModuleNotFoundError\u001b[0m: No module named 'pretrain'"
     ]
    }
   ],
   "source": [
    "import os\n",
    "os.chdir('../')\n",
    "import torch\n",
    "import plotly.express as px\n",
    "import plotly.graph_objects as go\n",
    "import numpy as np\n",
    "import matplotlib.pyplot as plt\n",
    "import MinkowskiEngine as ME\n",
    "from datetime import datetime as dt\n",
    "from torch.utils.data import DataLoader\n",
    "from pretrain.model_builder import make_model\n",
    "from pretrain.dataloader_nuscenes import NuScenesMatchDataset, minkunet_collate_pair_fn\n",
    "from utils.transforms import make_transforms_asymmetrical_val\n",
    "\n",
    "\n",
    "np.random.seed(0)\n",
    "\n",
    "\n",
    "def generate_config():\n",
    "    dataset = \"nuscenes\"\n",
    "    cylindrical_coordinates = True\n",
    "    voxel_size = 0.1\n",
    "    use_intensity = True\n",
    "    kernel_size = 3\n",
    "    model_n_out = 64\n",
    "    bn_momentum = 0.05\n",
    "    model_points = \"minkunet\"\n",
    "    image_weights = \"moco_v2\"\n",
    "    images_encoder = \"resnet50\"\n",
    "    decoder = \"dilation\"\n",
    "    training = \"validate\"\n",
    "    transforms_clouds = [\"Rotation\", \"FlipAxis\"]\n",
    "    transforms_mixed = [\"DropCuboids\", \"ResizedCrop\", \"FlipHorizontal\"]\n",
    "    losses = [\"loss_superpixels_average\"]\n",
    "    superpixels_type = \"slic\"\n",
    "    dataset_skip_step = 1\n",
    "    resume_path = \"weights/minkunet_slidr_1gpu_raw.pt\"\n",
    "\n",
    "    # WARNING: DO NOT CHANGE THE FOLLOWING PARAMETERS\n",
    "    # ===============================================\n",
    "    if dataset.lower() == \"nuscenes\":\n",
    "        dataset_root = \"/datasets/nuscenes/\"\n",
    "        crop_size = (224, 416)\n",
    "        crop_ratio = (14.0 / 9.0, 17.0 / 9.0)\n",
    "    elif dataset.lower() == \"kitti\":\n",
    "        dataset_root = \"/datasets/semantic_kitti/\"\n",
    "        crop_size = (192, 672)\n",
    "        crop_ratio = (3., 4.)\n",
    "    else:\n",
    "        raise Exception(f\"Dataset Unknown: {dataset}\")\n",
    "\n",
    "    datetime = dt.today().strftime(\"%d%m%y-%H%M\")\n",
    "    \n",
    "    normalize_features = True\n",
    "\n",
    "    config = locals().copy()\n",
    "    return config\n",
    "\n",
    "config = generate_config()\n",
    "\n",
    "mixed_transforms_val = make_transforms_asymmetrical_val(config)\n",
    "dataset = NuScenesMatchDataset(\n",
    "    phase=\"val\",\n",
    "    shuffle=False,\n",
    "    cloud_transforms=None,\n",
    "    mixed_transforms=mixed_transforms_val,\n",
    "    config=config,\n",
    ")\n",
    "\n",
    "dataloader = DataLoader(\n",
    "    dataset,\n",
    "    batch_size=1,\n",
    "    shuffle=True,\n",
    "    num_workers=0,\n",
    "    collate_fn=minkunet_collate_pair_fn,\n",
    "    pin_memory=True,\n",
    "    drop_last=False,\n",
    "    worker_init_fn=lambda id:0\n",
    ")\n",
    "dl = iter(dataloader)"
   ]
  }
 ],
 "metadata": {
  "kernelspec": {
   "display_name": "py3-mink",
   "language": "python",
   "name": "python3"
  },
  "language_info": {
   "codemirror_mode": {
    "name": "ipython",
    "version": 3
   },
   "file_extension": ".py",
   "mimetype": "text/x-python",
   "name": "python",
   "nbconvert_exporter": "python",
   "pygments_lexer": "ipython3",
   "version": "3.8.13"
  },
  "orig_nbformat": 4
 },
 "nbformat": 4,
 "nbformat_minor": 2
}
